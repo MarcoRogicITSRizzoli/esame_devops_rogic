{
 "cells": [
  {
   "cell_type": "markdown",
   "id": "3f1fbbb8",
   "metadata": {},
   "source": [
    "# Training"
   ]
  },
  {
   "cell_type": "code",
   "execution_count": 4,
   "id": "b46032c8",
   "metadata": {},
   "outputs": [
    {
     "name": "stdout",
     "output_type": "stream",
     "text": [
      "sagemaker.config INFO - Not applying SDK defaults from location: /etc/xdg/sagemaker/config.yaml\n",
      "sagemaker.config INFO - Not applying SDK defaults from location: /home/ec2-user/.config/sagemaker/config.yaml\n"
     ]
    },
    {
     "data": {
      "text/plain": [
       "'763104351884.dkr.ecr.us-east-1.amazonaws.com/tensorflow-training:2.12.0-cpu-py310'"
      ]
     },
     "execution_count": 4,
     "metadata": {},
     "output_type": "execute_result"
    }
   ],
   "source": [
    "import scipy.sparse\n",
    "from sagemaker import image_uris\n",
    "image_uris.retrieve(framework='tensorflow',region='us-east-1',version='2.12.0',image_scope='training',instance_type='ml.c5.4xlarge')"
   ]
  },
  {
   "cell_type": "code",
   "execution_count": 22,
   "id": "db753518",
   "metadata": {},
   "outputs": [
    {
     "name": "stdout",
     "output_type": "stream",
     "text": [
      "WARNING! Your password will be stored unencrypted in /home/ec2-user/.docker/config.json.\n",
      "Configure a credential helper to remove this warning. See\n",
      "https://docs.docker.com/engine/reference/commandline/login/#credentials-store\n",
      "\n",
      "Login Succeeded\n"
     ]
    }
   ],
   "source": [
    "!aws ecr get-login-password --region us-east-1 | docker login --username AWS --password-stdin  763104351884.dkr.ecr.us-east-1.amazonaws.com"
   ]
  },
  {
   "cell_type": "code",
   "execution_count": 11,
   "id": "a4309414",
   "metadata": {},
   "outputs": [
    {
     "name": "stdout",
     "output_type": "stream",
     "text": [
      "REPOSITORY   TAG       IMAGE ID   CREATED   SIZE\n"
     ]
    }
   ],
   "source": [
    "!docker images"
   ]
  },
  {
   "cell_type": "markdown",
   "id": "2cd687b6",
   "metadata": {},
   "source": [
    "## Build"
   ]
  },
  {
   "cell_type": "code",
   "execution_count": 20,
   "id": "5a5772cd",
   "metadata": {},
   "outputs": [
    {
     "name": "stdout",
     "output_type": "stream",
     "text": [
      "REPOSITORY   TAG       IMAGE ID   CREATED   SIZE\n"
     ]
    }
   ],
   "source": [
    "!docker images"
   ]
  },
  {
   "cell_type": "code",
   "execution_count": 40,
   "id": "cb3638e5",
   "metadata": {},
   "outputs": [
    {
     "name": "stdout",
     "output_type": "stream",
     "text": [
      "\u001b[1A\u001b[1B\u001b[0G\u001b[?25l[+] Building 0.0s (0/1)                                          docker:default\n",
      "\u001b[?25h\u001b[1A\u001b[0G\u001b[?25l[+] Building 0.1s (3/3)                                          docker:default\n",
      "\u001b[34m => [internal] load build definition from Dockerfile.train                 0.0s\n",
      "\u001b[0m\u001b[34m => => transferring dockerfile: 278B                                       0.0s\n",
      "\u001b[0m\u001b[34m => [internal] load metadata for 763104351884.dkr.ecr.us-east-1.amazonaws  0.1s\n",
      "\u001b[0m\u001b[34m => [auth] sharing credentials for 763104351884.dkr.ecr.us-east-1.amazona  0.0s\n",
      "\u001b[0m\u001b[?25h\u001b[1A\u001b[1A\u001b[1A\u001b[1A\u001b[1A\u001b[0G\u001b[?25l[+] Building 0.3s (9/9) FINISHED                                 docker:default\n",
      "\u001b[34m => [internal] load build definition from Dockerfile.train                 0.0s\n",
      "\u001b[0m\u001b[34m => => transferring dockerfile: 278B                                       0.0s\n",
      "\u001b[0m\u001b[34m => [internal] load metadata for 763104351884.dkr.ecr.us-east-1.amazonaws  0.1s\n",
      "\u001b[0m\u001b[34m => [auth] sharing credentials for 763104351884.dkr.ecr.us-east-1.amazona  0.0s\n",
      "\u001b[0m\u001b[34m => [internal] load .dockerignore                                          0.0s\n",
      "\u001b[0m\u001b[34m => => transferring context: 2B                                            0.0s\n",
      "\u001b[0m\u001b[34m => [1/3] FROM 763104351884.dkr.ecr.us-east-1.amazonaws.com/tensorflow-tr  0.0s\n",
      "\u001b[0m\u001b[34m => [internal] load build context                                          0.0s\n",
      "\u001b[0m\u001b[34m => => transferring context: 1.65kB                                        0.0s\n",
      "\u001b[0m\u001b[34m => CACHED [2/3] RUN pip install numpy pandas scikit-learn matplotlib ten  0.0s\n",
      "\u001b[0m\u001b[34m => [3/3] ADD module/train.py /opt/ml/code/train.py                        0.0s\n",
      "\u001b[0m\u001b[34m => exporting to image                                                     0.0s\n",
      "\u001b[0m\u001b[34m => => exporting layers                                                    0.0s\n",
      "\u001b[0m\u001b[34m => => writing image sha256:958c8cfab0f244a1d88a975e727398f8ac3e157ae5342  0.0s\n",
      "\u001b[0m\u001b[34m => => naming to 591530427655.dkr.ecr.us-east-1.amazonaws.com/my-tensorfl  0.0s\n",
      "\u001b[0m\u001b[?25h"
     ]
    }
   ],
   "source": [
    "!docker build -t 591530427655.dkr.ecr.us-east-1.amazonaws.com/my-tensorflow-training:2.12.0-cpu-py310-pippo-2 -f \"/home/ec2-user/SageMaker/esame_devops_rogic/docker/Dockerfile.train\" /home/ec2-user/SageMaker/esame_devops_rogic"
   ]
  },
  {
   "cell_type": "code",
   "execution_count": 29,
   "id": "0626f0f0",
   "metadata": {},
   "outputs": [
    {
     "name": "stdout",
     "output_type": "stream",
     "text": [
      "app  data  docker  module  notebook  README.md\n",
      "########################################################\n",
      "main.ipynb\n"
     ]
    }
   ],
   "source": [
    "!cd ..; ls\n",
    "print(\"########################################################\")\n",
    "!cd .; ls"
   ]
  },
  {
   "cell_type": "markdown",
   "id": "00a7978a",
   "metadata": {},
   "source": [
    "## Esecuzione Locale"
   ]
  },
  {
   "cell_type": "code",
   "execution_count": null,
   "id": "2bad9a17",
   "metadata": {},
   "outputs": [],
   "source": [
    "from sagemaker import get_execution_role\n",
    "from sagemaker.estimator import Estimator\n",
    "import os\n",
    "import pandas as pd\n",
    "role=get_execution_role()\n",
    "\n",
    "hyperparameters={'epochs': 1}\n",
    "\n",
    "estimator=Estimator(\n",
    "    image_uri='591530427655.dkr.ecr.us-east-1.amazonaws.com/my-tensorflow-training:2.12.0-cpu-py310-pippo-2',\n",
    "    role=role,\n",
    "    instance_count=1,\n",
    "    instance_type='local',\n",
    "    hyperparameters=hyperparameters,\n",
    "    output_path='file://{}/data/output'.format(os.getcwd())\n",
    ")\n",
    "\n",
    "print('##### ESTIMATOR FIT STARTED')\n",
    "estimator.fit('file://{}/data/input/train.csv'.format(os.getcwd()))\n",
    "print('##### ESTIMATOR FIT COMPLETED')"
   ]
  },
  {
   "cell_type": "code",
   "execution_count": null,
   "id": "b1db181b",
   "metadata": {},
   "outputs": [],
   "source": [
    "!tar -xzf data/output/output.tar.gz"
   ]
  },
  {
   "cell_type": "code",
   "execution_count": null,
   "id": "d96eccaa",
   "metadata": {},
   "outputs": [],
   "source": [
    "!SM_MODEL_DIR=\"./data/output\" python main.py"
   ]
  },
  {
   "cell_type": "code",
   "execution_count": null,
   "id": "69dee6e5",
   "metadata": {},
   "outputs": [],
   "source": [
    "!tar -xzf ./data/output/model.tar.gz"
   ]
  },
  {
   "cell_type": "markdown",
   "id": "8631a691",
   "metadata": {},
   "source": [
    "## Init repo on ECR"
   ]
  },
  {
   "cell_type": "code",
   "execution_count": 24,
   "id": "06c6b2a0",
   "metadata": {},
   "outputs": [
    {
     "name": "stdout",
     "output_type": "stream",
     "text": [
      "image_name: my-tensorflow-training ######################\n",
      "account: 591530427655 ######################\n",
      "region: us-east-1 ######################\n",
      "fullname: 591530427655.dkr.ecr.us-east-1.amazonaws.com/my-tensorflow-training:2.12.0-cpu-py310-pippo-2 ######################\n",
      "{\n",
      "    \"repository\": {\n",
      "        \"repositoryArn\": \"arn:aws:ecr:us-east-1:591530427655:repository/my-tensorflow-training\",\n",
      "        \"registryId\": \"591530427655\",\n",
      "        \"repositoryName\": \"my-tensorflow-training\",\n",
      "        \"repositoryUri\": \"591530427655.dkr.ecr.us-east-1.amazonaws.com/my-tensorflow-training\",\n",
      "        \"createdAt\": 1732266683.696,\n",
      "        \"imageTagMutability\": \"MUTABLE\",\n",
      "        \"imageScanningConfiguration\": {\n",
      "            \"scanOnPush\": false\n",
      "        },\n",
      "        \"encryptionConfiguration\": {\n",
      "            \"encryptionType\": \"AES256\"\n",
      "        }\n",
      "    }\n",
      "}\n"
     ]
    }
   ],
   "source": [
    "%%sh\n",
    "# Specify an image name\n",
    "image_name=my-tensorflow-training\n",
    "echo \"image_name: ${image_name} ######################\"\n",
    "\n",
    "account=$(aws sts get-caller-identity --query Account --output text)\n",
    "echo \"account: ${account} ######################\"\n",
    "\n",
    "# Get the region defined in the current configuration (default to us-west-2 if none defined)\n",
    "region=$(aws configure get region)\n",
    "echo \"region: ${region} ######################\"\n",
    "\n",
    "fullname=\"${account}.dkr.ecr.${region}.amazonaws.com/${image_name}:2.12.0-cpu-py310-pippo-2\"\n",
    "echo \"fullname: ${fullname} ######################\"\n",
    "\n",
    "aws ecr create-repository --repository-name \"${image_name}\"\n"
   ]
  },
  {
   "cell_type": "code",
   "execution_count": 25,
   "id": "8a2761f7",
   "metadata": {},
   "outputs": [
    {
     "name": "stdout",
     "output_type": "stream",
     "text": [
      "REPOSITORY                                                            TAG                        IMAGE ID       CREATED         SIZE\n",
      "591530427655.dkr.ecr.us-east-1.amazonaws.com/my-tensorflow-training   2.12.0-cpu-py310-pippo-2   7e1ae99f425d   3 minutes ago   8.59GB\n"
     ]
    }
   ],
   "source": [
    "!docker images"
   ]
  },
  {
   "cell_type": "code",
   "execution_count": null,
   "id": "dc511815",
   "metadata": {},
   "outputs": [],
   "source": [
    "#!docker rmi tensorflow-training:2.12.0-cpu-py310-pippo-2"
   ]
  },
  {
   "cell_type": "code",
   "execution_count": null,
   "id": "6766a480",
   "metadata": {},
   "outputs": [],
   "source": [
    "#!docker tag tensorflow-training:2.12.0-cpu-py310-pippo-2 591530427655.dkr.ecr.us-east-1.amazonaws.com/my-tensorflow-training:2.12.0-cpu-py310-pippo-2"
   ]
  },
  {
   "cell_type": "code",
   "execution_count": null,
   "id": "941ebfe7",
   "metadata": {},
   "outputs": [],
   "source": [
    "#!docker tag bec0922c4a51 tensorflow-training:2.12.0-cpu-py310-pippo-2"
   ]
  },
  {
   "cell_type": "markdown",
   "id": "a16f4e84",
   "metadata": {},
   "source": [
    "## Push image"
   ]
  },
  {
   "cell_type": "code",
   "execution_count": null,
   "id": "44bcbc94",
   "metadata": {},
   "outputs": [],
   "source": [
    "#!aws sagemaker describe-notebook-instance \\\n",
    "    #--notebook-instance-name CFNNotebookInstance-fBxJOmvnjTpG \\\n",
    "    #--region us-east-1"
   ]
  },
  {
   "cell_type": "code",
   "execution_count": null,
   "id": "65654766",
   "metadata": {},
   "outputs": [],
   "source": [
    "#!aws iam attach-role-policy \\\n",
    "    #--role-name c133245a3375001l7613526t1w00-SageMakerExecutionRole-XxDt97bVnO4D \\\n",
    "    #--policy-arn arn:aws:iam::aws:policy/AmazonEC2ContainerRegistryFullAccess"
   ]
  },
  {
   "cell_type": "code",
   "execution_count": 41,
   "id": "129b0079",
   "metadata": {},
   "outputs": [
    {
     "name": "stdout",
     "output_type": "stream",
     "text": [
      "The push refers to repository [591530427655.dkr.ecr.us-east-1.amazonaws.com/my-tensorflow-training]\n",
      "\n",
      "\u001b[1B00a9d748: Preparing \n",
      "\u001b[1B85ba51ae: Preparing \n",
      "\u001b[1B22878ecf: Preparing \n",
      "\u001b[1Bdb4f6696: Preparing \n",
      "\u001b[1Bf529ae49: Preparing \n",
      "\u001b[1B75f13e59: Preparing \n",
      "\u001b[1B0c6c24f9: Preparing \n",
      "\u001b[1Ba1e64371: Preparing \n",
      "\u001b[1B29631b13: Preparing \n",
      "\u001b[1B3f03efd0: Preparing \n",
      "\u001b[1B9b75d5ee: Preparing \n",
      "\u001b[1B370de786: Preparing \n",
      "\u001b[1Ba16f1a7a: Preparing \n",
      "\u001b[1Bfc8740d1: Preparing \n",
      "\u001b[1B292691fc: Preparing \n",
      "\u001b[1B6672bf9d: Preparing \n",
      "\u001b[1B607be3da: Preparing \n",
      "\u001b[1Bafc9b360: Preparing \n",
      "\u001b[1Bf934e4df: Preparing \n",
      "\u001b[1B80a2a6eb: Preparing \n",
      "\u001b[1Ba0538fa4: Preparing \n",
      "\u001b[1B6d109c54: Preparing \n",
      "\u001b[1Bf0a068df: Preparing \n",
      "\u001b[1B443b7673: Preparing \n",
      "\u001b[1B37a36861: Preparing \n",
      "\u001b[1Becb4bd81: Preparing \n",
      "\u001b[1B34b60c81: Preparing \n",
      "\u001b[1B07d5d0ab: Preparing \n",
      "\u001b[1Be6c8e003: Preparing \n",
      "\u001b[1Bab822c1c: Preparing \n",
      "\u001b[1B3609315f: Preparing \n",
      "\u001b[32B0a9d748: Pushed lready exists 5kB8A\u001b[2K\u001b[24A\u001b[2K\u001b[19A\u001b[2K\u001b[14A\u001b[2K\u001b[12A\u001b[2K\u001b[8A\u001b[2K\u001b[4A\u001b[2K\u001b[32A\u001b[2K2.12.0-cpu-py310-pippo-2: digest: sha256:043a5aa53aab77f6251551498fb4c5dd94f7ecda960cd853ca3974b3b0d02e34 size: 7045\n"
     ]
    }
   ],
   "source": [
    "!docker push 591530427655.dkr.ecr.us-east-1.amazonaws.com/my-tensorflow-training:2.12.0-cpu-py310-pippo-2"
   ]
  },
  {
   "cell_type": "markdown",
   "id": "acab5e27",
   "metadata": {},
   "source": [
    "## Esecuzione su ECR"
   ]
  },
  {
   "cell_type": "code",
   "execution_count": null,
   "id": "c06d3e2a",
   "metadata": {},
   "outputs": [
    {
     "name": "stderr",
     "output_type": "stream",
     "text": [
      "INFO:sagemaker:Creating training-job with name: my-tensorflow-training-2024-11-22-09-57-35-887\n"
     ]
    },
    {
     "name": "stdout",
     "output_type": "stream",
     "text": [
      "##### ESTIMATOR FIT STARTED\n",
      "2024-11-22 09:57:40 Starting - Starting the training job."
     ]
    }
   ],
   "source": [
    "from sagemaker import get_execution_role\n",
    "from sagemaker.estimator import Estimator\n",
    "import os\n",
    "import pandas as pd\n",
    "\n",
    "role=get_execution_role()\n",
    "\n",
    "MODEL_INPUT_PATH = 's3://marcorogicesame/data/input/user_behavior_dataset.csv'\n",
    "\n",
    "MODEL_OUTPUT_PATH = 's3://marcorogicesame/data/output'\n",
    "\n",
    "INSTANCE_TYPE = 'ml.p2.xlarge'\n",
    "\n",
    "hyperparameters={'epochs': 50}\n",
    "\n",
    "estimator=Estimator(\n",
    "    image_uri='591530427655.dkr.ecr.us-east-1.amazonaws.com/my-tensorflow-training:2.12.0-cpu-py310-pippo-2',\n",
    "    role=role,\n",
    "    instance_count=1,\n",
    "    instance_type=INSTANCE_TYPE,\n",
    "    hyperparameters=hyperparameters,\n",
    "    output_path=MODEL_OUTPUT_PATH\n",
    ")\n",
    "\n",
    "print('##### ESTIMATOR FIT STARTED')\n",
    "estimator.fit(MODEL_INPUT_PATH)\n",
    "print('##### ESTIMATOR FIT COMPLETED')"
   ]
  },
  {
   "cell_type": "markdown",
   "id": "de5102c1",
   "metadata": {},
   "source": [
    "# Build immagine inferenza"
   ]
  },
  {
   "cell_type": "code",
   "execution_count": null,
   "id": "218a10a6",
   "metadata": {},
   "outputs": [],
   "source": [
    "!docker build -t my-flask-inference -f \"/home/ec2-user/SageMaker/esame_devops_rogic/docker/Dockerfile.inference\" /home/ec2-user/SageMaker/esame_devops_rogic"
   ]
  },
  {
   "cell_type": "code",
   "execution_count": null,
   "id": "3be7ffe2",
   "metadata": {},
   "outputs": [],
   "source": [
    "!docker images"
   ]
  },
  {
   "cell_type": "markdown",
   "id": "90bc9e41",
   "metadata": {},
   "source": [
    "# Init ECR per immagine inferenza"
   ]
  },
  {
   "cell_type": "code",
   "execution_count": null,
   "id": "e5fe8310",
   "metadata": {},
   "outputs": [],
   "source": [
    "%%sh\n",
    "# Specify an image name\n",
    "image_name=my-flask-inference\n",
    "echo \"image_name: ${image_name} ######################\"\n",
    "\n",
    "account=$(aws sts get-caller-identity --query Account --output text)\n",
    "echo \"account: ${account} ######################\"\n",
    "\n",
    "# Get the region defined in the current configuration (default to us-west-2 if none defined)\n",
    "region=$(aws configure get region)\n",
    "echo \"region: ${region} ######################\"\n",
    "\n",
    "fullname=\"${account}.dkr.ecr.${region}.amazonaws.com/${image_name}:1.12.0-cpu\"\n",
    "\n",
    "echo \"fullname: ${fullname} ######################\"\n",
    "\n",
    "aws ecr create-repository --repository-name \"${image_name}\""
   ]
  },
  {
   "cell_type": "code",
   "execution_count": null,
   "id": "4c54e0cb",
   "metadata": {},
   "outputs": [],
   "source": [
    "!aws ecr get-login-password --region us-east-1 | docker login --username AWS --password-stdin 591530427655.dkr.ecr.us-east-1.amazonaws.com"
   ]
  },
  {
   "cell_type": "markdown",
   "id": "e699f80b",
   "metadata": {},
   "source": [
    "# Push dell'immagine di inferenza all'interno dell'ECR"
   ]
  },
  {
   "cell_type": "code",
   "execution_count": null,
   "id": "703ee79b",
   "metadata": {},
   "outputs": [],
   "source": [
    "!docker tag my-flask-inference:latest 591530427655.dkr.ecr.us-east-1.amazonaws.com/my-flask-inference:latest"
   ]
  },
  {
   "cell_type": "code",
   "execution_count": null,
   "id": "583cd608",
   "metadata": {},
   "outputs": [],
   "source": [
    "!docker push 591530427655.dkr.ecr.us-east-1.amazonaws.com/my-flask-inference:latest"
   ]
  },
  {
   "cell_type": "markdown",
   "id": "d86b0ec2",
   "metadata": {},
   "source": [
    "# Prova inferenza in locale"
   ]
  },
  {
   "cell_type": "code",
   "execution_count": null,
   "id": "02df5787",
   "metadata": {},
   "outputs": [],
   "source": [
    "from keras import models\n",
    "import numpy as np\n",
    "import json\n",
    "\n",
    "print(os.path.exists(f\"/home/ec2-user/SageMaker/esame_devops_rogic/model.keras\"))\n",
    "model = models.load_model(\"/home/ec2-user/SageMaker/esame_devops_rogic/model.keras\")\n",
    "type(model)\n",
    "\n",
    "predict_input = np.array([[0.475,0.37,0.125,0.5095,0.2165,0.1125,0.165,9]])\n",
    "predict_result = model.predict(predict_input)\n",
    "\n",
    "json.dumps({\"predict_result\": predict_result.tolist()})"
   ]
  },
  {
   "cell_type": "code",
   "execution_count": null,
   "id": "8c40857a",
   "metadata": {},
   "outputs": [],
   "source": [
    "!docker images"
   ]
  },
  {
   "cell_type": "markdown",
   "id": "06bf6c74",
   "metadata": {},
   "source": [
    "# Creazione endpoint e deploy"
   ]
  },
  {
   "cell_type": "code",
   "execution_count": null,
   "id": "e8654ada",
   "metadata": {},
   "outputs": [],
   "source": [
    "from sagemaker import get_execution_role\n",
    "import boto3\n",
    "import datetime\n",
    "from time import gmtime, strftime\n",
    "\n",
    "# https://docs.aws.amazon.com/sagemaker/latest/dg/realtime-endpoints-deployment.html\n",
    "\n",
    "my_session = boto3.session.Session()\n",
    "aws_region = my_session.region_name\n",
    "\n",
    "sagemaker_client = boto3.client('sagemaker', region_name=aws_region)\n",
    "\n",
    "sagemaker_role = get_execution_role()\n",
    "\n",
    "model_name = 'il-top'\n",
    "\n",
    "# Create model\n",
    "create_model_response = sagemaker_client.create_model(\n",
    "    ModelName = model_name,\n",
    "    ExecutionRoleArn = sagemaker_role,\n",
    "    PrimaryContainer = {\n",
    "        'Image': '591530427655.dkr.ecr.us-east-1.amazonaws.com/my-flask-inference:latest', ##Inference URI in ECR\n",
    "        'ModelDataUrl': 's3://brunobucket69/data/output/my-tensorflow-training-2024-11-21-20-56-58-105/output/model.tar.gz',\n",
    "    })\n"
   ]
  },
  {
   "cell_type": "code",
   "execution_count": null,
   "id": "cb2d609d",
   "metadata": {},
   "outputs": [],
   "source": [
    "endpoint_config_name = 'boiadee'\n",
    "\n",
    "instance_type = 'ml.p2.xlarge'\n",
    "\n",
    "endpoint_config_response = sagemaker_client.create_endpoint_config(\n",
    "    EndpointConfigName=endpoint_config_name,\n",
    "    ProductionVariants=[\n",
    "        {\n",
    "            \"VariantName\": \"variant1\", \n",
    "            \"ModelName\": model_name,\n",
    "            \"InstanceType\": instance_type, \n",
    "            \"InitialInstanceCount\": 1 \n",
    "        }\n",
    "    ]\n",
    ")\n",
    "\n",
    "print(f\"Created EndpointConfig: {endpoint_config_response['EndpointConfigArn']}\")\n",
    "\n",
    "endpoint_name = 'primo-endpoint-boia'\n",
    "\n",
    "create_endpoint_response = sagemaker_client.create_endpoint(\n",
    "                                            EndpointName=endpoint_name, \n",
    "                                            EndpointConfigName=endpoint_config_name)"
   ]
  },
  {
   "cell_type": "code",
   "execution_count": null,
   "id": "b3ef7394",
   "metadata": {},
   "outputs": [],
   "source": [
    "import boto3\n",
    "import json\n",
    "\n",
    "runtime_client = boto3.client('sagemaker-runtime', region_name=aws_region)\n",
    "\n",
    "payload = json.dumps({\"instances\": [[0.475, 0.37, 0.125, 0.5095, 0.2165, 0.1125, 0.165, 9]]})\n",
    "\n",
    "response = runtime_client.invoke_endpoint(\n",
    "    EndpointName=endpoint_name,\n",
    "    ContentType=\"application/json\",  \n",
    "    Body=payload                     \n",
    ")\n",
    "\n",
    "result = json.loads(response['Body'].read().decode())\n",
    "print(f\"Inference result: {result}\")\n"
   ]
  },
  {
   "cell_type": "code",
   "execution_count": null,
   "id": "71e4b746",
   "metadata": {},
   "outputs": [],
   "source": []
  }
 ],
 "metadata": {
  "kernelspec": {
   "display_name": "conda_tensorflow2_p310",
   "language": "python",
   "name": "conda_tensorflow2_p310"
  },
  "language_info": {
   "codemirror_mode": {
    "name": "ipython",
    "version": 3
   },
   "file_extension": ".py",
   "mimetype": "text/x-python",
   "name": "python",
   "nbconvert_exporter": "python",
   "pygments_lexer": "ipython3",
   "version": "3.10.15"
  }
 },
 "nbformat": 4,
 "nbformat_minor": 5
}
