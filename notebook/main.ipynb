{
 "cells": [
  {
   "cell_type": "markdown",
   "id": "f8b53e09",
   "metadata": {},
   "source": [
    "# Training"
   ]
  },
  {
   "cell_type": "code",
   "execution_count": null,
   "id": "73aa7e25",
   "metadata": {},
   "outputs": [],
   "source": [
    "import scipy.sparse\n",
    "from sagemaker import image_uris\n",
    "image_uris.retrieve(framework='tensorflow',region='us-east-1',version='2.12.0',image_scope='training',instance_type='ml.c5.4xlarge')"
   ]
  },
  {
   "cell_type": "code",
   "execution_count": null,
   "id": "640bcafc",
   "metadata": {},
   "outputs": [],
   "source": [
    "!aws ecr get-login-password --region us-east-1 | docker login --username AWS --password-stdin  591530427655.dkr.ecr.us-east-1.amazonaws.com"
   ]
  },
  {
   "cell_type": "code",
   "execution_count": null,
   "id": "62df5fc8",
   "metadata": {},
   "outputs": [],
   "source": [
    "!docker images"
   ]
  },
  {
   "cell_type": "markdown",
   "id": "1946f48d",
   "metadata": {},
   "source": [
    "## Build"
   ]
  },
  {
   "cell_type": "code",
   "execution_count": null,
   "id": "426cfc65",
   "metadata": {},
   "outputs": [],
   "source": [
    "!docker images"
   ]
  },
  {
   "cell_type": "code",
   "execution_count": null,
   "id": "f3e8b4bb",
   "metadata": {},
   "outputs": [],
   "source": [
    "!docker build -t 591530427655.dkr.ecr.us-east-1.amazonaws.com/my-tensorflow-training:2.12.0-cpu-py310-pippo-2 -f \"/home/ec2-user/SageMaker/UFS14Forkata/docker/Dockerfile.train\" /home/ec2-user/SageMaker/UFS14Forkata"
   ]
  },
  {
   "cell_type": "code",
   "execution_count": null,
   "id": "7aa55255",
   "metadata": {},
   "outputs": [],
   "source": [
    "!cd ..; ls\n",
    "print(\"########################################################\")\n",
    "!cd .; ls"
   ]
  },
  {
   "cell_type": "markdown",
   "id": "f9b2d8ea",
   "metadata": {},
   "source": [
    "## Esecuzione Locale"
   ]
  },
  {
   "cell_type": "code",
   "execution_count": null,
   "id": "239e32c8",
   "metadata": {},
   "outputs": [],
   "source": [
    "from sagemaker import get_execution_role\n",
    "from sagemaker.estimator import Estimator\n",
    "import os\n",
    "import pandas as pd\n",
    "role=get_execution_role()\n",
    "\n",
    "hyperparameters={'epochs': 1}\n",
    "\n",
    "estimator=Estimator(\n",
    "    image_uri='591530427655.dkr.ecr.us-east-1.amazonaws.com/my-tensorflow-training:2.12.0-cpu-py310-pippo-2',\n",
    "    role=role,\n",
    "    instance_count=1,\n",
    "    instance_type='local',\n",
    "    hyperparameters=hyperparameters,\n",
    "    output_path='file://{}/data/output'.format(os.getcwd())\n",
    ")\n",
    "\n",
    "print('##### ESTIMATOR FIT STARTED')\n",
    "estimator.fit('file://{}/data/input/train.csv'.format(os.getcwd()))\n",
    "print('##### ESTIMATOR FIT COMPLETED')"
   ]
  },
  {
   "cell_type": "code",
   "execution_count": null,
   "id": "2edc9284",
   "metadata": {},
   "outputs": [],
   "source": [
    "!tar -xzf data/output/output.tar.gz"
   ]
  },
  {
   "cell_type": "code",
   "execution_count": null,
   "id": "cb7f6b14",
   "metadata": {},
   "outputs": [],
   "source": [
    "!SM_MODEL_DIR=\"./data/output\" python main.py"
   ]
  },
  {
   "cell_type": "code",
   "execution_count": null,
   "id": "11adbd1d",
   "metadata": {},
   "outputs": [],
   "source": [
    "!tar -xzf ./data/output/model.tar.gz"
   ]
  },
  {
   "cell_type": "markdown",
   "id": "a06f70a9",
   "metadata": {},
   "source": [
    "## Init repo on ECR"
   ]
  },
  {
   "cell_type": "code",
   "execution_count": null,
   "id": "a6eba761",
   "metadata": {},
   "outputs": [],
   "source": [
    "%%sh\n",
    "# Specify an image name\n",
    "image_name=my-tensorflow-training\n",
    "echo \"image_name: ${image_name} ######################\"\n",
    "\n",
    "account=$(aws sts get-caller-identity --query Account --output text)\n",
    "echo \"account: ${account} ######################\"\n",
    "\n",
    "# Get the region defined in the current configuration (default to us-west-2 if none defined)\n",
    "region=$(aws configure get region)\n",
    "echo \"region: ${region} ######################\"\n",
    "\n",
    "fullname=\"${account}.dkr.ecr.${region}.amazonaws.com/${image_name}:2.12.0-cpu-py310-pippo-2\"\n",
    "echo \"fullname: ${fullname} ######################\"\n",
    "\n",
    "aws ecr create-repository --repository-name \"${image_name}\"\n"
   ]
  },
  {
   "cell_type": "code",
   "execution_count": null,
   "id": "54df3cb9",
   "metadata": {},
   "outputs": [],
   "source": [
    "!docker images"
   ]
  },
  {
   "cell_type": "code",
   "execution_count": null,
   "id": "2733140f",
   "metadata": {},
   "outputs": [],
   "source": [
    "#!docker rmi tensorflow-training:2.12.0-cpu-py310-pippo-2"
   ]
  },
  {
   "cell_type": "code",
   "execution_count": null,
   "id": "571d8e08",
   "metadata": {},
   "outputs": [],
   "source": [
    "#!docker tag tensorflow-training:2.12.0-cpu-py310-pippo-2 591530427655.dkr.ecr.us-east-1.amazonaws.com/my-tensorflow-training:2.12.0-cpu-py310-pippo-2"
   ]
  },
  {
   "cell_type": "code",
   "execution_count": null,
   "id": "bcfcb00f",
   "metadata": {},
   "outputs": [],
   "source": [
    "#!docker tag bec0922c4a51 tensorflow-training:2.12.0-cpu-py310-pippo-2"
   ]
  },
  {
   "cell_type": "markdown",
   "id": "da3ad252",
   "metadata": {},
   "source": [
    "## Push image"
   ]
  },
  {
   "cell_type": "code",
   "execution_count": null,
   "id": "ba2a5d98",
   "metadata": {},
   "outputs": [],
   "source": [
    "#!aws sagemaker describe-notebook-instance \\\n",
    "    #--notebook-instance-name CFNNotebookInstance-fBxJOmvnjTpG \\\n",
    "    #--region us-east-1"
   ]
  },
  {
   "cell_type": "code",
   "execution_count": null,
   "id": "89afc959",
   "metadata": {},
   "outputs": [],
   "source": [
    "#!aws iam attach-role-policy \\\n",
    "    #--role-name c133245a3375001l7613526t1w00-SageMakerExecutionRole-XxDt97bVnO4D \\\n",
    "    #--policy-arn arn:aws:iam::aws:policy/AmazonEC2ContainerRegistryFullAccess"
   ]
  },
  {
   "cell_type": "code",
   "execution_count": null,
   "id": "b3778365",
   "metadata": {},
   "outputs": [],
   "source": [
    "!docker push 591530427655.dkr.ecr.us-east-1.amazonaws.com/my-tensorflow-training:2.12.0-cpu-py310-pippo-2"
   ]
  },
  {
   "cell_type": "markdown",
   "id": "59cd76e6",
   "metadata": {},
   "source": [
    "## Esecuzione su ECR"
   ]
  },
  {
   "cell_type": "code",
   "execution_count": null,
   "id": "208919e5",
   "metadata": {},
   "outputs": [],
   "source": [
    "from sagemaker import get_execution_role\n",
    "from sagemaker.estimator import Estimator\n",
    "import os\n",
    "import pandas as pd\n",
    "\n",
    "role=get_execution_role()\n",
    "\n",
    "MODEL_INPUT_PATH = 's3://marcorogicesame/data/input/user_behavior_dataset.csv'\n",
    "\n",
    "MODEL_OUTPUT_PATH = 's3://marcorogicesame/data/output'\n",
    "\n",
    "INSTANCE_TYPE = 'ml.p2.xlarge'\n",
    "\n",
    "hyperparameters={'epochs': 50}\n",
    "\n",
    "estimator=Estimator(\n",
    "    image_uri='591530427655.dkr.ecr.us-east-1.amazonaws.com/my-tensorflow-training:2.12.0-cpu-py310-pippo-2',\n",
    "    role=role,\n",
    "    instance_count=1,\n",
    "    instance_type=INSTANCE_TYPE,\n",
    "    hyperparameters=hyperparameters,\n",
    "    output_path=MODEL_OUTPUT_PATH\n",
    ")\n",
    "\n",
    "print('##### ESTIMATOR FIT STARTED')\n",
    "estimator.fit(MODEL_INPUT_PATH)\n",
    "print('##### ESTIMATOR FIT COMPLETED')"
   ]
  },
  {
   "cell_type": "markdown",
   "id": "f6750a9a",
   "metadata": {},
   "source": [
    "# Build immagine inferenza"
   ]
  },
  {
   "cell_type": "code",
   "execution_count": null,
   "id": "00fa8128",
   "metadata": {},
   "outputs": [],
   "source": [
    "!docker build -t my-flask-inference -f \"/home/ec2-user/SageMaker/UFS14Forkata/docker/Dockerfile.inference\" /home/ec2-user/SageMaker/UFS14Forkata"
   ]
  },
  {
   "cell_type": "code",
   "execution_count": null,
   "id": "a6b63058",
   "metadata": {},
   "outputs": [],
   "source": [
    "!docker images"
   ]
  },
  {
   "cell_type": "markdown",
   "id": "be158afd",
   "metadata": {},
   "source": [
    "# Init ECR per immagine inferenza"
   ]
  },
  {
   "cell_type": "code",
   "execution_count": null,
   "id": "f18724a0",
   "metadata": {},
   "outputs": [],
   "source": [
    "%%sh\n",
    "# Specify an image name\n",
    "image_name=my-flask-inference\n",
    "echo \"image_name: ${image_name} ######################\"\n",
    "\n",
    "account=$(aws sts get-caller-identity --query Account --output text)\n",
    "echo \"account: ${account} ######################\"\n",
    "\n",
    "# Get the region defined in the current configuration (default to us-west-2 if none defined)\n",
    "region=$(aws configure get region)\n",
    "echo \"region: ${region} ######################\"\n",
    "\n",
    "fullname=\"${account}.dkr.ecr.${region}.amazonaws.com/${image_name}:1.12.0-cpu\"\n",
    "\n",
    "echo \"fullname: ${fullname} ######################\"\n",
    "\n",
    "aws ecr create-repository --repository-name \"${image_name}\""
   ]
  },
  {
   "cell_type": "code",
   "execution_count": null,
   "id": "890eb534",
   "metadata": {},
   "outputs": [],
   "source": [
    "!aws ecr get-login-password --region us-east-1 | docker login --username AWS --password-stdin 591530427655.dkr.ecr.us-east-1.amazonaws.com"
   ]
  },
  {
   "cell_type": "markdown",
   "id": "eace6435",
   "metadata": {},
   "source": [
    "# Push dell'immagine di inferenza all'interno dell'ECR"
   ]
  },
  {
   "cell_type": "code",
   "execution_count": null,
   "id": "a311e32d",
   "metadata": {},
   "outputs": [],
   "source": [
    "!docker tag my-flask-inference:latest 591530427655.dkr.ecr.us-east-1.amazonaws.com/my-flask-inference:latest"
   ]
  },
  {
   "cell_type": "code",
   "execution_count": null,
   "id": "a4b11ded",
   "metadata": {},
   "outputs": [],
   "source": [
    "!docker push 591530427655.dkr.ecr.us-east-1.amazonaws.com/my-flask-inference:latest"
   ]
  },
  {
   "cell_type": "markdown",
   "id": "4b289ada",
   "metadata": {},
   "source": [
    "# Prova inferenza in locale"
   ]
  },
  {
   "cell_type": "code",
   "execution_count": null,
   "id": "7a05dc86",
   "metadata": {},
   "outputs": [],
   "source": [
    "from keras import models\n",
    "import numpy as np\n",
    "import json\n",
    "\n",
    "print(os.path.exists(f\"/home/ec2-user/SageMaker/UFS14Forkata/model.keras\"))\n",
    "model = models.load_model(\"/home/ec2-user/SageMaker/UFS14Forkata/model.keras\")\n",
    "type(model)\n",
    "\n",
    "predict_input = np.array([[0.475,0.37,0.125,0.5095,0.2165,0.1125,0.165,9]])\n",
    "predict_result = model.predict(predict_input)\n",
    "\n",
    "json.dumps({\"predict_result\": predict_result.tolist()})"
   ]
  },
  {
   "cell_type": "code",
   "execution_count": null,
   "id": "41ba8717",
   "metadata": {},
   "outputs": [],
   "source": [
    "!docker images"
   ]
  },
  {
   "cell_type": "markdown",
   "id": "f1e0c922",
   "metadata": {},
   "source": [
    "# Creazione endpoint e deploy"
   ]
  },
  {
   "cell_type": "code",
   "execution_count": null,
   "id": "d8b47006",
   "metadata": {},
   "outputs": [],
   "source": [
    "from sagemaker import get_execution_role\n",
    "import boto3\n",
    "import datetime\n",
    "from time import gmtime, strftime\n",
    "\n",
    "# https://docs.aws.amazon.com/sagemaker/latest/dg/realtime-endpoints-deployment.html\n",
    "\n",
    "my_session = boto3.session.Session()\n",
    "aws_region = my_session.region_name\n",
    "\n",
    "sagemaker_client = boto3.client('sagemaker', region_name=aws_region)\n",
    "\n",
    "sagemaker_role = get_execution_role()\n",
    "\n",
    "model_name = 'il-top'\n",
    "\n",
    "# Create model\n",
    "create_model_response = sagemaker_client.create_model(\n",
    "    ModelName = model_name,\n",
    "    ExecutionRoleArn = sagemaker_role,\n",
    "    PrimaryContainer = {\n",
    "        'Image': '591530427655.dkr.ecr.us-east-1.amazonaws.com/my-flask-inference:latest', ##Inference URI in ECR\n",
    "        'ModelDataUrl': 's3://brunobucket69/data/output/my-tensorflow-training-2024-11-21-20-56-58-105/output/model.tar.gz',\n",
    "    })\n"
   ]
  },
  {
   "cell_type": "code",
   "execution_count": null,
   "id": "c362c4dd",
   "metadata": {},
   "outputs": [],
   "source": [
    "endpoint_config_name = 'boiadee'\n",
    "\n",
    "instance_type = 'ml.p2.xlarge'\n",
    "\n",
    "endpoint_config_response = sagemaker_client.create_endpoint_config(\n",
    "    EndpointConfigName=endpoint_config_name,\n",
    "    ProductionVariants=[\n",
    "        {\n",
    "            \"VariantName\": \"variant1\", \n",
    "            \"ModelName\": model_name,\n",
    "            \"InstanceType\": instance_type, \n",
    "            \"InitialInstanceCount\": 1 \n",
    "        }\n",
    "    ]\n",
    ")\n",
    "\n",
    "print(f\"Created EndpointConfig: {endpoint_config_response['EndpointConfigArn']}\")\n",
    "\n",
    "endpoint_name = 'primo-endpoint-boia'\n",
    "\n",
    "create_endpoint_response = sagemaker_client.create_endpoint(\n",
    "                                            EndpointName=endpoint_name, \n",
    "                                            EndpointConfigName=endpoint_config_name)"
   ]
  },
  {
   "cell_type": "code",
   "execution_count": null,
   "id": "0d5527ab",
   "metadata": {},
   "outputs": [],
   "source": [
    "import boto3\n",
    "import json\n",
    "\n",
    "runtime_client = boto3.client('sagemaker-runtime', region_name=aws_region)\n",
    "\n",
    "payload = json.dumps({\"instances\": [[0.475, 0.37, 0.125, 0.5095, 0.2165, 0.1125, 0.165, 9]]})\n",
    "\n",
    "response = runtime_client.invoke_endpoint(\n",
    "    EndpointName=endpoint_name,\n",
    "    ContentType=\"application/json\",  \n",
    "    Body=payload                     \n",
    ")\n",
    "\n",
    "result = json.loads(response['Body'].read().decode())\n",
    "print(f\"Inference result: {result}\")\n"
   ]
  },
  {
   "cell_type": "code",
   "execution_count": null,
   "id": "a1548a8e",
   "metadata": {},
   "outputs": [],
   "source": []
  }
 ],
 "metadata": {
  "kernelspec": {
   "display_name": "conda_tensorflow2_p310",
   "language": "python",
   "name": "conda_tensorflow2_p310"
  },
  "language_info": {
   "codemirror_mode": {
    "name": "ipython",
    "version": 3
   },
   "file_extension": ".py",
   "mimetype": "text/x-python",
   "name": "python",
   "nbconvert_exporter": "python",
   "pygments_lexer": "ipython3",
   "version": "3.10.15"
  }
 },
 "nbformat": 4,
 "nbformat_minor": 5
}
